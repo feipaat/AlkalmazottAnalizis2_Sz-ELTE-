{
 "cells": [
  {
   "cell_type": "markdown",
   "metadata": {},
   "source": [
    "# <center>Alkalmazott Analízis II.</center>\n",
    "\n",
    "## <center>Fekete Imre</center>\n",
    "### <center>Alkalmazott Analízis és Számításmatematikai Tanszék</center>\n",
    "<img src=\"cimer2.jpg\" width=\"400\">\n",
    "<br>\n",
    "<br>\n",
    "<br>\n",
    "<br>\n",
    "\n",
    "### Általános információk:\n",
    "+ <span class=\"fa fa-building-o\"></span> Déli Tömb 3.702</li>\n",
    "+ Honlap: <a href=\"http://imrefekete.web.elte.hu/\" target=\"_blank\"> http://imrefekete.web.elte.hu/</a>\n",
    "+ Fogadóórák:  később lesz hivatalos (megbeszélés alapján) \n",
    "+ Piazza: Kurzushoz kapcsolódó minden anyag és csoportos levelezés: <a href=\"piazza.com/elte.hu/fall2019/na3\">regisztrációs link</a>\n",
    "<br><br>\n",
    "\n",
    "### Számonkérés:\n",
    "+ 3 db beugró, melyből kettőnek sikerülnie kell\n",
    "+ 1 db zárthelyi (azok írhatnak, akiknek megvan a beugrójuk, itt legalább elégségest lehet már csak elérni)\n",
    "+ Beadható feladatokkal lehet bónuszpontokat szerezni\n",
    "<br><br>\n",
    "\n",
    "### Segédanyagok:\n",
    "+ Előadás jegyzete\n",
    "+ <a href=\"http://tankonyvtar.ttk.bme.hu/authorlistp.jsp?bookId=30\">Faragó István, Horváth Róbert: Numerikus módszerek </a>\n",
    "+ <a href=\"http://tankonyvtar.ttk.bme.hu/authorlistp.jsp?bookId=117\"> Faragó István, Fekete Imre, Horváth Róbert: Numerikus módszerek példatár </a>\n",
    "<br><br>\n",
    "\n",
    "### 3 kívánság:\n",
    "\n",
    "<br>\n",
    "<br>\n",
    "\n",
    "\n",
    "<div style=\"width:870 px\"></div>\n",
    "<div style=\"float:left\"><img src=\"questions.jpg\" width=\"450\" title=\"Nyugodtan kérdezzünk!\"/></div>\n",
    "<div style=\"float:left\"><img src=\"practice.jpg\" width=\"400\" title=\"Sokat gyakoroljunk/dolgozzunk otthon!\"/></div>\n",
    "<div style=\"float:left\"><img src=\"positive.jpg\" width=\"870\" title=\"A jó hangulat sokat segít!\"/></div> \n",
    "<div style=\"clear:both\"></div> \n",
    "<br><br>\n"
   ]
  },
  {
   "cell_type": "markdown",
   "metadata": {},
   "source": [
    "<br>\n",
    "<br>\n",
    "## <center>1. Feladatsor</center>\n",
    "<br><br>\n",
    "\n",
    "<b>1.feladat.</b> Írjunk programot, mely a gyakorlaton tanult LAER megolható akkor és csak akkor, ha $r(A)=r(A | b)$ rang tételt ellenőrzi. "
   ]
  },
  {
   "cell_type": "code",
   "execution_count": 1,
   "metadata": {},
   "outputs": [
    {
     "name": "stdout",
     "output_type": "stream",
     "text": [
      "ans = 1\n"
     ]
    }
   ],
   "source": [
    "% Rangos tétel\n",
    "% Teszt 1\n",
    "A=[1 2 6; 4 5 6; 7 8 9];\n",
    "b=[1 2 3]';\n",
    "% Teszt 2\n",
    "%A=[1 2 3; 4 5 6; 7 8 9];\n",
    "%b=[1 2 3]';\n",
    "%det(A)\n",
    "rank(A) == rank([A b])\n",
    "% Ha 1 van megoldás\n",
    "% Ha 0 nincs megoldás"
   ]
  },
  {
   "cell_type": "markdown",
   "metadata": {},
   "source": [
    "<b>2.feladat.</b> Írjunk programot, mely eldönti egy adott mátrixról, hogy a nulla sajátértéke-e vagy sem!"
   ]
  },
  {
   "cell_type": "code",
   "execution_count": 3,
   "metadata": {},
   "outputs": [
    {
     "name": "stdout",
     "output_type": "stream",
     "text": [
      "ans =\n",
      "\n",
      "   17.23282\n",
      "   -2.44631\n",
      "    0.21349\n",
      "\n",
      "v =\n",
      "\n",
      "  1\n",
      "  1\n",
      "  1\n",
      "\n",
      "ans = 1\n"
     ]
    }
   ],
   "source": [
    "% Nulla s.é. vagy sem\n",
    "A=[1 2 6; 4 5 6; 7 8 9];\n",
    "%A=[1 2 3; 4 5 6; 7 8 9];\n",
    "eig(A)\n",
    "v=abs(eig(A)) >= 1e-14%s.é.-kek nagyobbak-e mint 0 1:igen; 0:nem\n",
    "sum(abs(v));\n",
    "sum(abs(v)) == size(A,2) % 1:igen; invható; 0:nem invható\n"
   ]
  },
  {
   "cell_type": "markdown",
   "metadata": {},
   "source": [
    "<b>3.feladat.</b> Írjunk olyan programot, mely a sarokdetermináns tétel alapján eldönti, hogy a mátrix szigourúan pozitív definit-e vagy sem!"
   ]
  },
  {
   "cell_type": "code",
   "execution_count": null,
   "metadata": {},
   "outputs": [],
   "source": []
  },
  {
   "cell_type": "markdown",
   "metadata": {},
   "source": [
    "<b>4.feladat.</b> Írjunk olyan programot, mely eldönti, hogy a mátrix szigorúan diagonálisan domináns-e vagy sem!"
   ]
  },
  {
   "cell_type": "code",
   "execution_count": 10,
   "metadata": {},
   "outputs": [
    {
     "name": "stdout",
     "output_type": "stream",
     "text": [
      "A =\n",
      "\n",
      "   4   1   1\n",
      "   1   3   0\n",
      "   2  -1  -7\n",
      "\n",
      "ans =\n",
      "\n",
      "    6\n",
      "    4\n",
      "   10\n",
      "\n",
      "ans =\n",
      "\n",
      "    8\n",
      "    6\n",
      "   14\n",
      "\n",
      "ans = 1\n"
     ]
    }
   ],
   "source": [
    "%A=[1 2 5; 2 1 3; 5 3 4]\n",
    "%A=[-1 0 2; 0 1 3; 0 1 5]\n",
    "A=[4  1 1; 1 3 0; 2 -1 -7]\n",
    "%A=[-4  1 1; 1 3 -3; 2 -1 -7]\n",
    "sum(abs(A),2)\n",
    "2*abs(diag(A))\n",
    "all((2*abs(diag(A))) > sum(abs(A),2)) %1 SZDD; 0 nem SZDD"
   ]
  },
  {
   "cell_type": "markdown",
   "metadata": {},
   "source": [
    "<b>5.feladat.</b> Írjunk olyan programot, mely eldönti, hogy a mátrix az M-mátrix definícióhoz tartozó előjeleloszlás tulajdonsággal rendelkezik-e vagy sem!"
   ]
  },
  {
   "cell_type": "code",
   "execution_count": null,
   "metadata": {},
   "outputs": [],
   "source": []
  }
 ],
 "metadata": {
  "kernelspec": {
   "display_name": "Octave",
   "language": "octave",
   "name": "octave"
  },
  "language_info": {
   "file_extension": ".m",
   "help_links": [
    {
     "text": "GNU Octave",
     "url": "https://www.gnu.org/software/octave/support.html"
    },
    {
     "text": "Octave Kernel",
     "url": "https://github.com/Calysto/octave_kernel"
    },
    {
     "text": "MetaKernel Magics",
     "url": "https://github.com/calysto/metakernel/blob/master/metakernel/magics/README.md"
    }
   ],
   "mimetype": "text/x-octave",
   "name": "octave",
   "version": "4.2.2"
  }
 },
 "nbformat": 4,
 "nbformat_minor": 2
}
