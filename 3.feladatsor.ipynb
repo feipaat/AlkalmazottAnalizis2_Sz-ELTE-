{
 "cells": [
  {
   "cell_type": "markdown",
   "metadata": {},
   "source": [
    "## <center>3. Feladatsor</center>\n",
    "\n",
    "\n",
    "<img src=\"betterstudents.gif\" width=\"700\">\n",
    "\n",
    "\n",
    "<br>\n",
    "<b>1.feladat.</b> Írjunk olyan programot, mely egy adott mátrix alapján kirajzolja a Gersgorin-köröket!"
   ]
  },
  {
   "cell_type": "code",
   "execution_count": 2,
   "metadata": {},
   "outputs": [
    {
     "name": "stdout",
     "output_type": "stream",
     "text": [
      "C =\n",
      "\n",
      "   2.571429   0.071429  -0.025000  -2.000000   0.083333\n",
      "   0.071429   6.000000  -2.000000   0.083333  -2.000000\n",
      "\n",
      "A korok kozeppontjai es sugarai: [-4.000000 0.000000 2.000000]\n",
      "A korok kozeppontjai es sugarai: [6.000000 0.000000 3.000000]\n",
      "A korok kozeppontjai es sugarai: [3.000000 0.000000 1.000000]\n",
      "Sajatertekek =\n",
      "\n",
      "  -3.8019 + 0.0000i\n",
      "   4.4010 + 0.3092i\n",
      "   4.4010 - 0.3092i\n",
      "\n"
     ]
    },
    {
     "data": {
      "image/png": "[encoded data removed]",
      "text/plain": [
       "<IPython.core.display.Image object>"
      ]
     },
     "metadata": {},
     "output_type": "display_data"
    }
   ],
   "source": [
    "A=[-4 -2 0; 1 6 2; 0 -1 3];\n",
    "B=[-1 1 i; 2 4+2*i 1; 1 0 2-4*i];\n",
    "C=[18/7 1/14 -1/40 -2 1/12; 1/14 6 -2 1/12 -2]\n",
    "gersgorinkor(A)"
   ]
  },
  {
   "cell_type": "markdown",
   "metadata": {},
   "source": [
    "<b>2.feladat.</b> Írjuk meg a hatványmódszert!"
   ]
  },
  {
   "cell_type": "code",
   "execution_count": 3,
   "metadata": {},
   "outputs": [
    {
     "name": "stdout",
     "output_type": "stream",
     "text": [
      "\n",
      "11 iteracio utan: \n",
      "\n",
      "A komponensenkenti hanyados: 4.009448\n",
      "A Rayleigh-fele hanyados: 4.009276\n",
      "A legnagyobb sajatertek: 4.000000\n",
      "A hozzatartozo sajatvektor: [1.000000 0.000000 0.000000]' \n",
      "A kozelito sajatvektor: [0.999974 0.006169 0.003813]' \n",
      "A matrix sajatertekei: [4.000000 2.618034 0.381966]' \n",
      "\n"
     ]
    }
   ],
   "source": [
    "hatvanymodszer([4 1 0; 0 2 1; 0 1 1], [1 1 1]', 11)"
   ]
  },
  {
   "cell_type": "code",
   "execution_count": null,
   "metadata": {
    "collapsed": true
   },
   "outputs": [],
   "source": []
  }
 ],
 "metadata": {
  "kernelspec": {
   "display_name": "Octave",
   "language": "octave",
   "name": "octave"
  },
  "language_info": {
   "file_extension": ".m",
   "help_links": [
    {
     "text": "GNU Octave",
     "url": "https://www.gnu.org/software/octave/support.html"
    },
    {
     "text": "Octave Kernel",
     "url": "https://github.com/Calysto/octave_kernel"
    },
    {
     "text": "MetaKernel Magics",
     "url": "https://github.com/calysto/metakernel/blob/master/metakernel/magics/README.md"
    }
   ],
   "mimetype": "text/x-octave",
   "name": "octave",
   "version": "4.2.2"
  }
 },
 "nbformat": 4,
 "nbformat_minor": 1
}
