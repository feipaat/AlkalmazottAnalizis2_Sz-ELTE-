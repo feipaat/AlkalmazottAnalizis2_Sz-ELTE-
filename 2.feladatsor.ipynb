{
 "cells": [
  {
   "cell_type": "markdown",
   "metadata": {},
   "source": [
    "## <center>2. Feladatsor</center>\n",
    "\n",
    "<img src=\"holiday.gif\" width=\"700\">\n",
    "\n",
    "<br>\n",
    "<b>1.feladat.</b> Írjunk olyan programot, mely méri hogy a MATLAB az $Ax=b$ egyenletet milyen gyorsan oldja meg $N=2^i,\\ i=1,\\ldots,12$ esetén, ha $A=randn(N)$ és $b=(1,\\ldots,1)^T\\in\\mathbb{R}^N$! A mért eredményünkről készítsünk ábrát!\n"
   ]
  },
  {
   "cell_type": "code",
   "execution_count": 1,
   "metadata": {},
   "outputs": [
    {
     "name": "stdout",
     "output_type": "stream",
     "text": [
      "   2.00   0.09\n",
      "   4.00   0.00\n",
      "   8.00   0.00\n",
      "   16.00    0.00\n",
      "   32.00    0.00\n",
      "   64.00    0.00\n",
      "   128.00     0.00\n",
      "   256.00     0.01\n",
      "   512.00     0.03\n",
      "   1024.00      0.11\n",
      "   2048.00      0.72\n",
      "   4096.00      4.59\n",
      "   8192.00     37.00\n"
     ]
    },
    {
     "data": {
      "image/png": "[encoded data removed]",
      "text/plain": [
       "<IPython.core.display.Image object>"
      ]
     },
     "metadata": {},
     "output_type": "display_data"
    }
   ],
   "source": [
    "format bank\n",
    "for j=1:13\n",
    "    N=2^j;\n",
    "    A=randn(N);\n",
    "    %e=ones(N,1);\n",
    "    %A=(N+1)^2*spdiags([-e 2*e e], [-1 0 1], N, N);\n",
    "    tic\n",
    "    A\\ones(N,1);\n",
    "    t=toc;\n",
    "    disp([N,t]);\n",
    "    dim(j)=N;\n",
    "    time(j)=t;\n",
    "end\n",
    "plot(dim,time,'-')"
   ]
  },
  {
   "cell_type": "markdown",
   "metadata": {},
   "source": [
    "<br>\n",
    "\n",
    "<b>2.feladat.</b> Készítsünk loglog ábrát és értelmezzük a korábban kapott eredményeinket!"
   ]
  },
  {
   "cell_type": "code",
   "execution_count": 3,
   "metadata": {},
   "outputs": [
    {
     "data": {
      "image/png": "[encoded data removed]",
      "text/plain": [
       "<IPython.core.display.Image object>"
      ]
     },
     "metadata": {},
     "output_type": "display_data"
    }
   ],
   "source": []
  },
  {
   "cell_type": "markdown",
   "metadata": {},
   "source": [
    "<b>3.feladat.</b> Alkalmazzuk a MATLAB LU-, Cholesky- és iLU-felbontások beépített függvényeit az alábbi LAER-re: $A=\\mathrm{tridiag}(-1,2,-1)\\in\\mathbb{R}^{n\\times n}$ vagy $A$ random mátrix és $b=(1,\\ldots,1)^T\\in\\mathbb{R}^n$!"
   ]
  },
  {
   "cell_type": "code",
   "execution_count": null,
   "metadata": {},
   "outputs": [],
   "source": []
  },
  {
   "cell_type": "markdown",
   "metadata": {},
   "source": [
    "### Klasszikus iterációk SZPD mátrixokra (Jacobi, GS, SOR)\n",
    "\n",
    "<br>\n",
    "Tekintsük az $Ax=b$ egyenlet megoldására az alábbi egylépéses stacionárius lineáris iteratív alakot\n",
    "\n",
    "$$x^{(k+1)}=Mx^{(k)}+v,\\ \\quad k=0,1,\\ldots$$<br>\n",
    "\n",
    "<u>Tétel:</u> A lineáris iteráció konzisztens $Ax=b$-vel $\\Longleftrightarrow$ $\\rho(M)<1$<br>\n",
    "\n",
    "Tekintsük a szokásos $A=L+D+U$ felbontást (szig. alsó, diag, szig. felső). Ekkor a három klasszikus iteráció:\n",
    "\n",
    "+ Jacobi\n",
    "$$x^{(k+1)}=D^{-1}\\big(-[L+U]x^{(k)}+b\\big)$$\n",
    "+ Gauss-Seidel (GS)\n",
    "$$x^{(k+1)}=(L+D)^{-1}\\big(-Ux^{(k)}+b\\big)$$\n",
    "+ SOR (Successive over-relaxation)\n",
    "$$x^{(k+1)}=(D+\\omega L)^{-1}\\big(-[\\omega U+(\\omega -1)D]x^{(k)}+\\omega b\\big)$$\n",
    "<br>\n",
    "\n",
    "<u>Tétel:</u> Ha $A$ M-mátrix, akkor a Jacobi, GS iterációk és ezek relaxált változatai $\\omega\\in (0,1)$ mellett tetszőleges kezdeti vektor esetén konvergálnak az egyenletrendszer megoldásához<br>\n",
    "\n",
    "<u>Tétel:</u> Ha $A$ SZDD, akkor a Jacobi és GS iterációk tetszőleges kezdeti vektor esetén konvergálnak az egyenletrendszer megoldásához<br>\n",
    "\n",
    "<u>Tétel:</u> Ha $A$ SZPD, akkor a GS iteráció és SOR módszer $\\omega\\in (0,2)$ iterációk tetszőleges kezdeti vektor esetén konvergálnak az egyenletrendszer megoldásához <br>\n",
    "\n",
    "<br>\n",
    "<b>4.feladat.</b> Írjunk olyan programot, amely az $Ax=b$ egyenletet megoldja a Jacobi-iteráció segítségével! Az első leállási feltételnek a numerikus megoldó vektor maximumnormában mért relatív hibáját adjuk meg adott tolerancia mellett. Második leállási feltételnek pedig egy maximális iteráció számot."
   ]
  },
  {
   "cell_type": "code",
   "execution_count": null,
   "metadata": {},
   "outputs": [],
   "source": []
  },
  {
   "cell_type": "markdown",
   "metadata": {},
   "source": [
    "<b>5.feladat.</b> A 4.feladat Gauss-Seidel iteráció esetén."
   ]
  },
  {
   "cell_type": "code",
   "execution_count": null,
   "metadata": {},
   "outputs": [],
   "source": []
  },
  {
   "cell_type": "markdown",
   "metadata": {},
   "source": [
    "<b>6.feladat.</b> A 4.feladat SOR iteráció esetén."
   ]
  },
  {
   "cell_type": "code",
   "execution_count": null,
   "metadata": {},
   "outputs": [],
   "source": []
  },
  {
   "cell_type": "markdown",
   "metadata": {},
   "source": [
    "<b>7.feladat.</b> A 4.feladat Richardson-iteráció esetén. Számítsuk ki $A$ spektrálsugarát, illetve határozzuk meg mely $p$ értékek esetén lesz a Richardson-iteráció konvergens! Ezen értékek közül melyik az optimális? "
   ]
  },
  {
   "cell_type": "code",
   "execution_count": null,
   "metadata": {
    "collapsed": true
   },
   "outputs": [],
   "source": []
  }
 ],
 "metadata": {
  "kernelspec": {
   "display_name": "Octave",
   "language": "octave",
   "name": "octave"
  },
  "language_info": {
   "file_extension": ".m",
   "help_links": [
    {
     "text": "GNU Octave",
     "url": "https://www.gnu.org/software/octave/support.html"
    },
    {
     "text": "Octave Kernel",
     "url": "https://github.com/Calysto/octave_kernel"
    },
    {
     "text": "MetaKernel Magics",
     "url": "https://github.com/calysto/metakernel/blob/master/metakernel/magics/README.md"
    }
   ],
   "mimetype": "text/x-octave",
   "name": "octave",
   "version": "4.2.2"
  }
 },
 "nbformat": 4,
 "nbformat_minor": 1
}
